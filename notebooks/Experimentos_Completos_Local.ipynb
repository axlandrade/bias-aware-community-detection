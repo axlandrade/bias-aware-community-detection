{
 "cells": [
  {
   "cell_type": "markdown",
   "metadata": {
    "id": "poTB8d3Tebh3"
   },
   "source": [
    "# 🚀 Experimento Completo: Detecção de Viés no TwiBot-22\n",
    "\n",
    "Este notebook executa a pipeline completa de detecção de viés em **escala real**, conforme o artigo[cite: 1]. Ele é otimizado para um ambiente de alta performance (Colab Pro com A100/160GB RAM).\n",
    "\n",
    "**Objetivo:** Comparar a **Heurística Corrigida (Enhanced Louvain)**  com o **Louvain Padrão** no dataset TwiBot-22 completo."
   ]
  },
  {
   "cell_type": "markdown",
   "metadata": {
    "id": "KHICIxsdebh4"
   },
   "source": [
    "## ⚙️ Passo 0: Configuração do Ambiente"
   ]
  },
  {
   "cell_type": "code",
   "execution_count": null,
   "metadata": {
    "colab": {
     "base_uri": "https://localhost:8080/"
    },
    "executionInfo": {
     "elapsed": 469,
     "status": "ok",
     "timestamp": 1761585714140,
     "user": {
      "displayName": "Axl Andrade",
      "userId": "05906505906187169759"
     },
     "user_tz": 180
    },
    "id": "uaME3SiDebh5",
    "outputId": "40dc66ef-e945-420f-a398-11c9e1ff8478"
   },
   "outputs": [],
   "source": [
    "import os\n",
    "\n",
    "# ‼️ ATENÇÃO: Confirme se este é o caminho para a pasta raiz do seu projeto\n",
    "project_path_on_drive = '..'\n",
    "\n",
    "os.chdir(project_path_on_drive)\n",
    "print(f\"✅ Diretório de trabalho alterado para: {os.getcwd()}\")"
   ]
  },
  {
   "cell_type": "code",
   "execution_count": null,
   "metadata": {
    "colab": {
     "base_uri": "https://localhost:8080/"
    },
    "executionInfo": {
     "elapsed": 7564,
     "status": "ok",
     "timestamp": 1761585721709,
     "user": {
      "displayName": "Axl Andrade",
      "userId": "05906505906187169759"
     },
     "user_tz": 180
    },
    "id": "SIewlOrlebh5",
    "outputId": "da8f9aeb-496c-4952-eab4-9ff6b326eca6"
   },
   "outputs": [],
   "source": [
    "print(\"📦 Instalando dependências...\")\n",
    "!pip install networkx python-louvain pandas tqdm psutil transformers[torch] matplotlib seaborn -q\n",
    "print(\"✅ Dependências instaladas!\")"
   ]
  },
  {
   "cell_type": "code",
   "execution_count": null,
   "metadata": {
    "colab": {
     "base_uri": "https://localhost:8080/"
    },
    "executionInfo": {
     "elapsed": 25041,
     "status": "ok",
     "timestamp": 1761585746754,
     "user": {
      "displayName": "Axl Andrade",
      "userId": "05906505906187169759"
     },
     "user_tz": 180
    },
    "id": "ZLhfkd7sebh5",
    "outputId": "3c257b71-00b0-4e51-a8bf-111e10c87e27"
   },
   "outputs": [],
   "source": [
    "print(\"🔧 Importando módulos e configurando ambiente...\")\n",
    "\n",
    "import sys\n",
    "import time\n",
    "import json\n",
    "import torch\n",
    "import numpy as np\n",
    "import pandas as pd\n",
    "import networkx as nx\n",
    "import matplotlib.pyplot as plt\n",
    "import community.community_louvain as louvain\n",
    "import warnings\n",
    "import random\n",
    "from collections import defaultdict\n",
    "\n",
    "# Adicionar 'src' ao sys.path para imports\n",
    "project_dir_to_add = os.getcwd()\n",
    "if project_dir_to_add not in sys.path:\n",
    "    sys.path.append(project_dir_to_add)\n",
    "\n",
    "# Importar nossos módulos\n",
    "try:\n",
    "    from src.config import Config\n",
    "    from src.data_utils import TwiBotDataLoader\n",
    "    from src.bias_calculator import BiasCalculator\n",
    "    from src.heuristic import EnhancedLouvainWithBias # A versão CORRIGIDA\n",
    "    from src.evaluation import ComprehensiveEvaluator\n",
    "except ImportError as e:\n",
    "    print(f\"❌ ERRO: Não foi possível importar os módulos. Verifique se os arquivos .py estão corretos e o __init__.py existe.\")\n",
    "    print(f\"Detalhe: {e}\")\n",
    "    raise e\n",
    "\n",
    "# Configurações\n",
    "warnings.filterwarnings('ignore')\n",
    "plt.style.use('seaborn-v0_8-whitegrid')\n",
    "np.random.seed(Config.RANDOM_STATE)\n",
    "random.seed(Config.RANDOM_STATE)\n",
    "cfg = Config()\n",
    "\n",
    "# Verificar Hardware (Vital para Colab Pro)\n",
    "print(\"\\n--- Verificação de Hardware ---\")\n",
    "if torch.cuda.is_available():\n",
    "    print(f\"✅ GPU: {torch.cuda.get_device_name(0)}\")\n",
    "    print(f\"   VRAM: {torch.cuda.get_device_properties(0).total_memory / 1e9:.1f} GB\")\n",
    "else:\n",
    "    print(\"❌ GPU NÃO DETECTADA. Usando CPU (será lento).\")\n",
    "\n",
    "print(f\"✅ CPUs: {os.cpu_count()} (Config.NUM_WORKERS={cfg.NUM_WORKERS})\")\n",
    "print(\"✅ Ambiente pronto!\")"
   ]
  },
  {
   "cell_type": "markdown",
   "metadata": {
    "id": "8hFyI3-jebh6"
   },
   "source": [
    "## 🚀 Passo 1: Otimização de I/O (Copiar Dados para Disco Local)\n",
    "\n",
    "Esta é a etapa **mais importante** para a velocidade. Copiamos TODOS os arquivos de tweets do Google Drive (lento) para o disco local `/tmp/` (muito rápido).\n",
    "\n",
    "**Esta célula vai demorar alguns minutos para ser executada.**"
   ]
  },
  {
   "cell_type": "code",
   "execution_count": null,
   "metadata": {
    "colab": {
     "base_uri": "https://localhost:8080/"
    },
    "executionInfo": {
     "elapsed": 690233,
     "status": "ok",
     "timestamp": 1761586436999,
     "user": {
      "displayName": "Axl Andrade",
      "userId": "05906505906187169759"
     },
     "user_tz": 180
    },
    "id": "8VgLzxDJebh6",
    "outputId": "0ba8f8d9-c921-43b6-b968-c12f8045a84e"
   },
   "outputs": [],
   "source": [
    "print(\"Copiando TODOS os arquivos de tweets para o disco local (/tmp/tweet_data)...\")\n",
    "start_copy = time.time()\n",
    "\n",
    "!mkdir -p /tmp/tweet_data\n",
    "\n",
    "# Usamos o curinga '*' para copiar todos os arquivos tweet_*.json de uma vez\n",
    "!cp \"/content/drive/My Drive/bias-aware-community-detection/data/TwiBot22/tweet_0.json\" /tmp/tweet_data/\n",
    "!cp \"/content/drive/My Drive/bias-aware-community-detection/data/TwiBot22/tweet_1.json\" /tmp/tweet_data/\n",
    "!cp \"/content/drive/My Drive/bias-aware-community-detection/data/TwiBot22/tweet_2.json\" /tmp/tweet_data/\n",
    "!cp \"/content/drive/My Drive/bias-aware-community-detection/data/TwiBot22/tweet_3.json\" /tmp/tweet_data/\n",
    "\n",
    "copy_time = time.time() - start_copy\n",
    "print(f\"\\n✅ Cópia concluída em {copy_time:.2f} segundos.\")\n",
    "print(f\"Arquivos em /tmp/tweet_data: {len(os.listdir('/tmp/tweet_data'))}\")"
   ]
  },
  {
   "cell_type": "markdown",
   "metadata": {
    "id": "kc1VMTZfebh6"
   },
   "source": [
    "## 📊 Passo 2: Carregar Grafo Completo (Full Scale)"
   ]
  },
  {
   "cell_type": "code",
   "execution_count": null,
   "metadata": {
    "colab": {
     "base_uri": "https://localhost:8080/"
    },
    "executionInfo": {
     "elapsed": 3821132,
     "status": "ok",
     "timestamp": 1761590258132,
     "user": {
      "displayName": "Axl Andrade",
      "userId": "05906505906187169759"
     },
     "user_tz": 180
    },
    "id": "aXxpJfWBebh7",
    "outputId": "59932dfb-08ef-44d5-8c09-3e172be8e2db"
   },
   "outputs": [],
   "source": [
    "print(\"📊 Carregando/Construindo Grafo (Full Scale)...\")\n",
    "start_load = time.time()\n",
    "\n",
    "data_loader = TwiBotDataLoader()\n",
    "\n",
    "# Garantir que os diretórios de cache existem\n",
    "cfg.create_dirs()\n",
    "\n",
    "# Passar max_nodes=None para carregar o grafo inteiro\n",
    "G, bot_labels = data_loader.load_and_build_graph(max_nodes=None)\n",
    "\n",
    "load_time = time.time() - start_load\n",
    "print(f\"   ↳ Tempo total para carregar/construir grafo: {load_time:.2f}s\")\n",
    "print(f\"\\n📈 Grafo Carregado: {G.number_of_nodes():,} nós, {G.number_of_edges():,} arestas\")\n",
    "print(f\"🎯 Bots Identificados: {sum(bot_labels.values()):,} ({sum(bot_labels.values())/len(bot_labels):.1%})\")"
   ]
  },
  {
   "cell_type": "markdown",
   "metadata": {
    "id": "ebi7cQRSebh7"
   },
   "source": [
    "## 🧠 Passo 3: Calcular Scores de Viés (Full Scale)\n",
    "\n",
    "Esta é a etapa computacionalmente mais intensiva. Ela irá:\n",
    "1.  Ler os arquivos de `/tmp/` (rápido).\n",
    "2.  Processar **todos** os tweets relevantes (sem limite artificial).\n",
    "3.  Usar todos os seus `NUM_WORKERS` e a A100.\n",
    "\n",
    "**Esta célula levará um tempo considerável (talvez horas), mas a barra de progresso `tqdm` mostrará o status.**"
   ]
  },
  {
   "cell_type": "code",
   "execution_count": null,
   "metadata": {
    "colab": {
     "base_uri": "https://localhost:8080/"
    },
    "id": "QwPL9_3pebh7",
    "outputId": "72e5b9a5-fd63-4360-c88c-f1ec6d43d345"
   },
   "outputs": [],
   "source": [
    "from collections import defaultdict\n",
    "\n",
    "print(\"🧠 Calculando/Carregando Scores de Viés (Full Scale)...\")\n",
    "start_bias = time.time()\n",
    "\n",
    "bias_calculator = BiasCalculator()\n",
    "\n",
    "# Esta função agora está configurada para ler de /tmp/ e sem TWEET_LIMIT_PER_WORKER\n",
    "bias_scores = bias_calculator.get_or_calculate_bias_scores(set(G.nodes()))\n",
    "\n",
    "bias_time = time.time() - start_bias\n",
    "print(f\"   ↳ Tempo total para calcular/carregar viés: {bias_time:.2f}s\")\n",
    "\n",
    "# Análise exploratória dos scores reais\n",
    "if bias_scores:\n",
    "    bias_values = [s for s in bias_scores.values() if s != 0.0] # Ignorar nós com 0.0 (sem tweets)\n",
    "    if bias_values:\n",
    "        print(f\"\\n📊 Estatísticas do Viés (Nós com tweets: {len(bias_values):,}):\")\n",
    "        print(f\"   Média={np.mean(bias_values):.3f}, Std={np.std(bias_values):.3f}\")\n",
    "\n",
    "        plt.figure(figsize=(10, 4))\n",
    "        plt.hist(bias_values, bins=50, alpha=0.7, color='blue')\n",
    "        plt.title('Distribuição dos Scores de Viés (Dataset Completo)')\n",
    "        plt.xlabel('Score de Viés (-1 Negativo, 1 Positivo)')\n",
    "        plt.ylabel('Frequência')\n",
    "        plt.grid(True, alpha=0.3)\n",
    "        plt.show()\n",
    "    else:\n",
    "        print(\"⚠️ Dicionário de viés foi criado, mas está vazio ou só contém zeros.\")\n",
    "else:\n",
    "    print(\"⚠️ Nenhum score de viés foi calculado ou carregado.\")"
   ]
  },
  {
   "cell_type": "markdown",
   "metadata": {
    "id": "ryIw7r4oebh7"
   },
   "source": [
    "## 🎯 Passo 4: Executar Heurística Corrigida (Enhanced Louvain)\n",
    "\n",
    "Executamos o algoritmo principal do artigo (a heurística corrigida) , usando `alpha=0.5` [cite: 18, 217] para balancear estrutura e viés."
   ]
  },
  {
   "cell_type": "code",
   "execution_count": null,
   "metadata": {
    "id": "l1E71kYIebh7"
   },
   "outputs": [],
   "source": [
    "print(f\"\\n🎯 Executando Enhanced Louvain com Viés (α={cfg.ALPHA})...\")\n",
    "start_enhanced = time.time()\n",
    "\n",
    "# Usar a classe HEURISTIC.PY corrigida\n",
    "detector = EnhancedLouvainWithBias(alpha=cfg.ALPHA, verbose=True)\n",
    "\n",
    "# O artigo foca em partição binária (k=2) [cite: 68-71, 99-106]\n",
    "detector.fit(G, bias_scores, num_communities=2)\n",
    "\n",
    "communities_enhanced = detector.get_communities()\n",
    "enhanced_time = time.time() - start_enhanced\n",
    "\n",
    "print(f\"\\n avaliando resultados da Heurística...\")\n",
    "metrics_enhanced = ComprehensiveEvaluator.evaluate_communities(\n",
    "    G, communities_enhanced, bias_scores, bot_labels\n",
    ")\n",
    "metrics_enhanced['runtime'] = enhanced_time\n",
    "\n",
    "print(f\"✅ Heurística concluída em {enhanced_time:.2f}s\")"
   ]
  },
  {
   "cell_type": "markdown",
   "metadata": {
    "id": "xTL6YVSRebh7"
   },
   "source": [
    "## ⚖️ Passo 5: Executar Baseline (Louvain Padrão)\n",
    "\n",
    "Comparamos com o algoritmo de Louvain padrão, que otimiza apenas a modularidade (estrutura)[cite: 50]."
   ]
  },
  {
   "cell_type": "code",
   "execution_count": null,
   "metadata": {
    "id": "H6b6pky8ebh7"
   },
   "outputs": [],
   "source": [
    "print(\"\\n⚖️ Executando Louvain Padrão (Baseline)...\")\n",
    "start_louvain = time.time()\n",
    "\n",
    "communities_louvain = louvain.best_partition(G, random_state=cfg.RANDOM_STATE)\n",
    "\n",
    "louvain_time = time.time() - start_louvain\n",
    "\n",
    "print(f\"... Louvain Padrão encontrou {len(set(communities_louvain.values()))} comunidades.\")\n",
    "print(\"   Avaliando resultados do Louvain Padrão...\")\n",
    "\n",
    "metrics_louvain = ComprehensiveEvaluator.evaluate_communities(\n",
    "    G, communities_louvain, bias_scores, bot_labels\n",
    ")\n",
    "metrics_louvain['runtime'] = louvain_time\n",
    "\n",
    "print(f\"✅ Louvain Padrão concluído em {louvain_time:.2f}s\")"
   ]
  },
  {
   "cell_type": "markdown",
   "metadata": {
    "id": "KnILl-B3ebh8"
   },
   "source": [
    "## 📈 Passo 6: Resultados Finais e Comparação\n",
    "\n",
    "Aqui vemos se o nosso método (Enhanced) supera o Baseline (Padrão) nas métricas-chave do artigo: **Separação de Viés** e **Pureza de Viés** [cite: 136-138]."
   ]
  },
  {
   "cell_type": "code",
   "execution_count": null,
   "metadata": {
    "id": "8BtqJVAkebh8"
   },
   "outputs": [],
   "source": [
    "print(\"\\n\" + \"=\" * 60)\n",
    "print(\"📊 RESULTADOS FINAIS (Full Scale TwiBot-22)\")\n",
    "print(\"=\" * 60)\n",
    "\n",
    "ComprehensiveEvaluator.print_comparison(\n",
    "    metrics_enhanced,\n",
    "    metrics_louvain,\n",
    "    \"Enhanced Louvain (α=0.5)\",\n",
    "    \"Louvain Padrão (α=0.0)\"\n",
    ")\n",
    "\n",
    "print(\"\\n--- Métricas Detalhadas ---\")\n",
    "df_results = pd.DataFrame({\n",
    "    \"Enhanced Louvain (α=0.5)\": metrics_enhanced,\n",
    "    \"Louvain Padrão (α=0.0)\": metrics_louvain\n",
    "}).T\n",
    "\n",
    "print(df_results[['modularity', 'bias_separation', 'bias_purity', 'bot_concentration_max', 'num_communities', 'runtime']].to_markdown(floatfmt=\".4f\"))"
   ]
  },
  {
   "cell_type": "markdown",
   "metadata": {
    "id": "JTBT4v8Webh8"
   },
   "source": [
    "## 🔍 Passo 7: Análise Detalhada das Comunidades\n",
    "\n",
    "Vamos inspecionar as duas comunidades que nosso método encontrou."
   ]
  },
  {
   "cell_type": "code",
   "execution_count": null,
   "metadata": {
    "id": "aufcNaRyebh8"
   },
   "outputs": [],
   "source": [
    "print(\"\\n🔍 Análise Detalhada (Enhanced Louvain)\")\n",
    "\n",
    "comm_nodes_map = defaultdict(list)\n",
    "for node, comm in communities_enhanced.items():\n",
    "    comm_nodes_map[comm].append(node)\n",
    "\n",
    "for comm_id in sorted(comm_nodes_map.keys()):\n",
    "    comm_nodes = comm_nodes_map[comm_id]\n",
    "    comm_biases = [bias_scores.get(node, 0) for node in comm_nodes]\n",
    "    comm_bots = [bot_labels.get(node, False) for node in comm_nodes]\n",
    "\n",
    "    print(f\"\\n🏷️  Comunidade {comm_id}:\")\n",
    "    print(f\"   • {len(comm_nodes):,} nós ({len(comm_nodes) / G.number_of_nodes():.1%})\")\n",
    "    print(f\"   • Viés médio: {np.mean(comm_biases):.3f} (±{np.std(comm_biases):.3f})\")\n",
    "    print(f\"   • Bots: {sum(comm_bots):,}/{len(comm_bots):,} ({sum(comm_bots)/len(comm_bots):.1%})\")\n",
    "\n",
    "print(\"\\n\" + \"=\" * 60)\n",
    "print(\"🎉 EXPERIMENTO COMPLETO CONCLUÍDO!\")\n",
    "print(\"=\" * 60)"
   ]
  }
 ],
 "metadata": {
  "accelerator": "GPU",
  "colab": {
   "gpuType": "A100",
   "machine_shape": "hm",
   "provenance": []
  },
  "kernelspec": {
   "display_name": ".venv (3.13.9)",
   "language": "python",
   "name": "python3"
  },
  "language_info": {
   "codemirror_mode": {
    "name": "ipython",
    "version": 3
   },
   "file_extension": ".py",
   "mimetype": "text/x-python",
   "name": "python",
   "nbconvert_exporter": "python",
   "pygments_lexer": "ipython3",
   "version": "3.13.9"
  }
 },
 "nbformat": 4,
 "nbformat_minor": 0
}
