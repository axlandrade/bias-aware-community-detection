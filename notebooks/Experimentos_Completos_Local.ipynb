{
 "cells": [
  {
   "cell_type": "markdown",
   "metadata": {
    "id": "poTB8d3Tebh3"
   },
   "source": [
    "\n",
    "# 🚀 Experimento Completo: Detecção de Viés no TwiBot-22\n",
    "\n",
    "Este notebook executa a pipeline completa de detecção de viés em **escala real**, conforme o artigo[cite: 1]. Ele é otimizado para um ambiente de alta performance (Colab Pro com A100/160GB RAM).\n",
    "\n",
    "**Objetivo:** Comparar a **Heurística Corrigida (Enhanced Louvain)**  com o **Louvain Padrão** no dataset TwiBot-22 completo."
   ]
  },
  {
   "cell_type": "markdown",
   "metadata": {
    "id": "KHICIxsdebh4"
   },
   "source": [
    "## ⚙️ Passo 0: Configuração do Ambiente"
   ]
  },
  {
   "cell_type": "code",
   "execution_count": 1,
   "metadata": {
    "colab": {
     "base_uri": "https://localhost:8080/"
    },
    "executionInfo": {
     "elapsed": 469,
     "status": "ok",
     "timestamp": 1761585714140,
     "user": {
      "displayName": "Axl Andrade",
      "userId": "05906505906187169759"
     },
     "user_tz": 180
    },
    "id": "uaME3SiDebh5",
    "outputId": "40dc66ef-e945-420f-a398-11c9e1ff8478"
   },
   "outputs": [
    {
     "name": "stdout",
     "output_type": "stream",
     "text": [
      "✅ Diretório de trabalho alterado para: e:\\Projetos\\bias-aware-community-detection\n"
     ]
    }
   ],
   "source": [
    "import os\n",
    "\n",
    "# ‼️ ATENÇÃO: Confirme se este é o caminho para a pasta raiz do seu projeto\n",
    "project_path_on_drive = '..'\n",
    "\n",
    "os.chdir(project_path_on_drive)\n",
    "print(f\"✅ Diretório de trabalho alterado para: {os.getcwd()}\")"
   ]
  },
  {
   "cell_type": "code",
   "execution_count": 2,
   "metadata": {
    "colab": {
     "base_uri": "https://localhost:8080/"
    },
    "executionInfo": {
     "elapsed": 7564,
     "status": "ok",
     "timestamp": 1761585721709,
     "user": {
      "displayName": "Axl Andrade",
      "userId": "05906505906187169759"
     },
     "user_tz": 180
    },
    "id": "SIewlOrlebh5",
    "outputId": "da8f9aeb-496c-4952-eab4-9ff6b326eca6"
   },
   "outputs": [
    {
     "name": "stdout",
     "output_type": "stream",
     "text": [
      "📦 Instalando e atualizando dependências (com correção para torchvision)...\n",
      "   Atualizando PyTorch (CUDA)...\n",
      "   Instalando networkx, pandas, transformers, etc...\n"
     ]
    },
    {
     "name": "stderr",
     "output_type": "stream",
     "text": [
      "ERROR: Could not find a version that satisfies the requirement torchaudio (from versions: none)\n",
      "ERROR: No matching distribution found for torchaudio\n"
     ]
    },
    {
     "name": "stdout",
     "output_type": "stream",
     "text": [
      "✅ Dependências instaladas e atualizadas!\n"
     ]
    }
   ],
   "source": [
    "print(\"📦 Instalando e atualizando dependências (com correção para torchvision)...\")\n",
    "\n",
    "# Passo 1: Instalar/Atualizar PyTorch, Torchvision e Torchaudio (com CUDA 12.1)\n",
    "print(\"   Atualizando PyTorch (CUDA)...\")\n",
    "!pip install --upgrade torch torchvision torchaudio --index-url https://download.pytorch.org/whl/cu121 -q\n",
    "\n",
    "# Passo 2: Instalar as outras bibliotecas (do repositório padrão)\n",
    "print(\"   Instalando networkx, pandas, transformers, etc...\")\n",
    "# Adicionado 'tabulate' à lista\n",
    "!pip install --upgrade networkx python-louvain pandas tqdm psutil transformers[torch] matplotlib seaborn tabulate -q\n",
    "\n",
    "print(\"✅ Dependências instaladas e atualizadas!\")"
   ]
  },
  {
   "cell_type": "code",
   "execution_count": 3,
   "metadata": {
    "colab": {
     "base_uri": "https://localhost:8080/"
    },
    "executionInfo": {
     "elapsed": 25041,
     "status": "ok",
     "timestamp": 1761585746754,
     "user": {
      "displayName": "Axl Andrade",
      "userId": "05906505906187169759"
     },
     "user_tz": 180
    },
    "id": "ZLhfkd7sebh5",
    "outputId": "3c257b71-00b0-4e51-a8bf-111e10c87e27"
   },
   "outputs": [
    {
     "name": "stdout",
     "output_type": "stream",
     "text": [
      "🔧 Importando módulos e configurando ambiente...\n",
      "\n",
      "--- Verificação de Hardware (Local) ---\n",
      "✅ GPU: NVIDIA GeForce RTX 3060\n",
      "   VRAM: 12.9 GB\n",
      "✅ CPUs: 12 (Config.NUM_WORKERS=12)\n",
      "✅ Ambiente pronto!\n"
     ]
    }
   ],
   "source": [
    "print(\"🔧 Importando módulos e configurando ambiente...\")\n",
    "\n",
    "import sys\n",
    "import time\n",
    "import json\n",
    "import torch\n",
    "import numpy as np\n",
    "import pandas as pd\n",
    "import networkx as nx\n",
    "import matplotlib.pyplot as plt\n",
    "import community.community_louvain as louvain\n",
    "import warnings\n",
    "import random\n",
    "from collections import defaultdict\n",
    "\n",
    "# Adicionar 'src' ao sys.path\n",
    "project_dir_to_add = os.getcwd()\n",
    "if project_dir_to_add not in sys.path:\n",
    "    sys.path.append(project_dir_to_add)\n",
    "\n",
    "# Importar nossos NOVOS módulos (TwiBot-20)\n",
    "try:\n",
    "    from src.config import Config\n",
    "    from src.data_utils import TwiBot20Loader  # <--- CORREÇÃO ESTÁ AQUI\n",
    "    from src.bias_calculator import BiasCalculator\n",
    "    from src.heuristic import EnhancedLouvainWithBias \n",
    "    from src.evaluation import ComprehensiveEvaluator\n",
    "except ImportError as e:\n",
    "    print(f\"❌ ERRO: Não foi possível importar os módulos. Verifique os arquivos .py.\")\n",
    "    print(f\"Detalhe: {e}\")\n",
    "    raise e\n",
    "\n",
    "cfg = Config()\n",
    "warnings.filterwarnings('ignore')\n",
    "plt.style.use('seaborn-v0_8-whitegrid')\n",
    "np.random.seed(cfg.RANDOM_STATE)\n",
    "random.seed(cfg.RANDOM_STATE)\n",
    "\n",
    "print(\"\\n--- Verificação de Hardware (Local) ---\")\n",
    "if torch.cuda.is_available():\n",
    "    print(f\"✅ GPU: {torch.cuda.get_device_name(0)}\")\n",
    "    print(f\"   VRAM: {torch.cuda.get_device_properties(0).total_memory / 1e9:.1f} GB\")\n",
    "else:\n",
    "    print(\"❌ GPU NVIDIA (CUDA) NÃO DETECTADA. Usando CPU (será lento).\")\n",
    "\n",
    "print(f\"✅ CPUs: {os.cpu_count()} (Config.NUM_WORKERS={cfg.NUM_WORKERS})\")\n",
    "print(\"✅ Ambiente pronto!\")"
   ]
  },
  {
   "cell_type": "markdown",
   "metadata": {
    "id": "kc1VMTZfebh6"
   },
   "source": [
    "## 📊 Passo 2: Carregar Grafo Completo (Full Scale)"
   ]
  },
  {
   "cell_type": "code",
   "execution_count": 4,
   "metadata": {
    "colab": {
     "base_uri": "https://localhost:8080/"
    },
    "executionInfo": {
     "elapsed": 3821132,
     "status": "ok",
     "timestamp": 1761590258132,
     "user": {
      "displayName": "Axl Andrade",
      "userId": "05906505906187169759"
     },
     "user_tz": 180
    },
    "id": "aXxpJfWBebh7",
    "outputId": "59932dfb-08ef-44d5-8c09-3e172be8e2db"
   },
   "outputs": [
    {
     "name": "stdout",
     "output_type": "stream",
     "text": [
      "📊 Carregando/Construindo Grafo (TwiBot-20 Amostra)...\n",
      "📊 Fase 1: Carregando/Construindo Grafo (TwiBot-20)...\n",
      "   Arquivos de cache encontrados! Carregando...\n",
      "   ✅ Grafo (cache): 12 nós, 11 arestas.\n",
      "   ↳ Tempo total: 0.03s\n",
      "\n",
      "📈 Grafo Carregado: 12 nós, 11 arestas\n",
      "🎯 Bots Identificados: 0 (0.0%)\n"
     ]
    }
   ],
   "source": [
    "print(\"📊 Carregando/Construindo Grafo (TwiBot-20 Amostra)...\")\n",
    "start_load = time.time()\n",
    "\n",
    "data_loader = TwiBot20Loader() # <-- CORREÇÃO ESTÁ AQUI\n",
    "\n",
    "# Vamos rodar na amostra inteira, então max_nodes=None\n",
    "G, bot_labels = data_loader.load_and_build_graph(max_nodes=None)\n",
    "\n",
    "load_time = time.time() - start_load\n",
    "print(f\"   ↳ Tempo total: {load_time:.2f}s\")\n",
    "print(f\"\\n📈 Grafo Carregado: {G.number_of_nodes():,} nós, {G.number_of_edges():,} arestas\")\n",
    "print(f\"🎯 Bots Identificados: {sum(bot_labels.values()):,} ({sum(bot_labels.values())/len(bot_labels):.1%})\")"
   ]
  },
  {
   "cell_type": "markdown",
   "metadata": {
    "id": "ebi7cQRSebh7"
   },
   "source": [
    "## 🧠 Passo 3: Calcular Scores de Viés (Full Scale)\n",
    "\n",
    "Esta é a etapa computacionalmente mais intensiva. Ela irá:\n",
    "1.  Ler os arquivos de `/tmp/` (rápido).\n",
    "2.  Processar **todos** os tweets relevantes (sem limite artificial).\n",
    "3.  Usar todos os seus `NUM_WORKERS` e a A100.\n",
    "\n",
    "**Esta célula levará um tempo considerável (talvez horas), mas a barra de progresso `tqdm` mostrará o status.**"
   ]
  },
  {
   "cell_type": "code",
   "execution_count": 5,
   "metadata": {
    "colab": {
     "base_uri": "https://localhost:8080/"
    },
    "id": "QwPL9_3pebh7",
    "outputId": "72e5b9a5-fd63-4360-c88c-f1ec6d43d345"
   },
   "outputs": [
    {
     "name": "stdout",
     "output_type": "stream",
     "text": [
      "🧠 Calculando/Carregando Scores de Viés (Full Scale)...\n",
      "\n",
      "🧠 Fase 2: Calculando/Carregando Scores de Viés (TwiBot-20)...\n",
      "   Arquivo de cache 'e:\\Projetos\\bias-aware-community-detection\\processed_data_tw20\\tw20_bias_scores.json' encontrado! Carregando...\n",
      "   ✅ Scores carregados para 12 usuários.\n",
      "   ↳ Tempo total para calcular/carregar viés: 0.01s\n",
      "\n",
      "📊 Estatísticas do Viés (Nós com tweets: 12):\n",
      "   Média=0.192, Std=0.283\n"
     ]
    },
    {
     "data": {
      "image/png": "[encoded data removed]",
      "text/plain": [
       "<Figure size 1000x400 with 1 Axes>"
      ]
     },
     "metadata": {},
     "output_type": "display_data"
    }
   ],
   "source": [
    "from collections import defaultdict\n",
    "\n",
    "print(\"🧠 Calculando/Carregando Scores de Viés (Full Scale)...\")\n",
    "start_bias = time.time()\n",
    "\n",
    "bias_calculator = BiasCalculator()\n",
    "\n",
    "# Esta função agora está configurada para ler de /tmp/ e sem TWEET_LIMIT_PER_WORKER\n",
    "bias_scores = bias_calculator.get_or_calculate_bias_scores(set(G.nodes()))\n",
    "\n",
    "bias_time = time.time() - start_bias\n",
    "print(f\"   ↳ Tempo total para calcular/carregar viés: {bias_time:.2f}s\")\n",
    "\n",
    "# Análise exploratória dos scores reais\n",
    "if bias_scores:\n",
    "    bias_values = [s for s in bias_scores.values() if s != 0.0] # Ignorar nós com 0.0 (sem tweets)\n",
    "    if bias_values:\n",
    "        print(f\"\\n📊 Estatísticas do Viés (Nós com tweets: {len(bias_values):,}):\")\n",
    "        print(f\"   Média={np.mean(bias_values):.3f}, Std={np.std(bias_values):.3f}\")\n",
    "\n",
    "        plt.figure(figsize=(10, 4))\n",
    "        plt.hist(bias_values, bins=50, alpha=0.7, color='blue')\n",
    "        plt.title('Distribuição dos Scores de Viés (Dataset Completo)')\n",
    "        plt.xlabel('Score de Viés (-1 Negativo, 1 Positivo)')\n",
    "        plt.ylabel('Frequência')\n",
    "        plt.grid(True, alpha=0.3)\n",
    "        plt.show()\n",
    "    else:\n",
    "        print(\"⚠️ Dicionário de viés foi criado, mas está vazio ou só contém zeros.\")\n",
    "else:\n",
    "    print(\"⚠️ Nenhum score de viés foi calculado ou carregado.\")"
   ]
  },
  {
   "cell_type": "markdown",
   "metadata": {
    "id": "ryIw7r4oebh7"
   },
   "source": [
    "## 🎯 Passo 4: Executar Heurística Corrigida (Enhanced Louvain)\n",
    "\n",
    "Executamos o algoritmo principal do artigo (a heurística corrigida) , usando `alpha=0.5` [cite: 18, 217] para balancear estrutura e viés."
   ]
  },
  {
   "cell_type": "code",
   "execution_count": 6,
   "metadata": {
    "id": "l1E71kYIebh7"
   },
   "outputs": [
    {
     "name": "stdout",
     "output_type": "stream",
     "text": [
      "\n",
      "🎯 Executando Enhanced Louvain com Viés (α=0.5)...\n",
      "🎯 Executando Enhanced Louvain (α=0.5)...\n",
      "   Fase 1: Executando Louvain padrão para partição inicial...\n",
      "   Fase 2: Iniciando refinamento iterativo (max_iter=20)...\n",
      "      Iter 1/20: 1 movimentos.\n",
      "      Iter 2/20: 2 movimentos.\n",
      "      Iter 3/20: 0 movimentos.\n",
      "      Convergência atingida.\n",
      "   Fase 3: Balanceando para 2 comunidades...\n",
      "✅ Concluído em 0.00s (3 movimentos no refinamento)\n",
      "📊 Estatísticas Finais das Comunidades:\n",
      "  Comunidade 0:      7 nós, viés médio: +0.318 (±0.276)\n",
      "  Comunidade 1:      5 nós, viés médio: +0.015 (±0.179)\n",
      "\n",
      " avaliando resultados da Heurística...\n",
      "✅ Heurística concluída em 0.00s\n"
     ]
    }
   ],
   "source": [
    "print(f\"\\n🎯 Executando Enhanced Louvain com Viés (α={cfg.ALPHA})...\")\n",
    "start_enhanced = time.time()\n",
    "\n",
    "# Usar a classe HEURISTIC.PY corrigida\n",
    "detector = EnhancedLouvainWithBias(alpha=cfg.ALPHA, verbose=True)\n",
    "\n",
    "# O artigo foca em partição binária (k=2) [cite: 68-71, 99-106]\n",
    "detector.fit(G, bias_scores, num_communities=2)\n",
    "\n",
    "communities_enhanced = detector.get_communities()\n",
    "enhanced_time = time.time() - start_enhanced\n",
    "\n",
    "print(f\"\\n avaliando resultados da Heurística...\")\n",
    "metrics_enhanced = ComprehensiveEvaluator.evaluate_communities(\n",
    "    G, communities_enhanced, bias_scores, bot_labels\n",
    ")\n",
    "metrics_enhanced['runtime'] = enhanced_time\n",
    "\n",
    "print(f\"✅ Heurística concluída em {enhanced_time:.2f}s\")"
   ]
  },
  {
   "cell_type": "markdown",
   "metadata": {
    "id": "xTL6YVSRebh7"
   },
   "source": [
    "## ⚖️ Passo 5: Executar Baseline (Louvain Padrão)\n",
    "\n",
    "Comparamos com o algoritmo de Louvain padrão, que otimiza apenas a modularidade (estrutura)[cite: 50]."
   ]
  },
  {
   "cell_type": "code",
   "execution_count": 7,
   "metadata": {
    "id": "H6b6pky8ebh7"
   },
   "outputs": [
    {
     "name": "stdout",
     "output_type": "stream",
     "text": [
      "\n",
      "⚖️ Executando Louvain Padrão (Baseline)...\n",
      "... Louvain Padrão encontrou 3 comunidades.\n",
      "   Avaliando resultados do Louvain Padrão...\n",
      "✅ Louvain Padrão concluído em 0.00s\n"
     ]
    }
   ],
   "source": [
    "print(\"\\n⚖️ Executando Louvain Padrão (Baseline)...\")\n",
    "start_louvain = time.time()\n",
    "\n",
    "communities_louvain = louvain.best_partition(G, random_state=cfg.RANDOM_STATE)\n",
    "\n",
    "louvain_time = time.time() - start_louvain\n",
    "\n",
    "print(f\"... Louvain Padrão encontrou {len(set(communities_louvain.values()))} comunidades.\")\n",
    "print(\"   Avaliando resultados do Louvain Padrão...\")\n",
    "\n",
    "metrics_louvain = ComprehensiveEvaluator.evaluate_communities(\n",
    "    G, communities_louvain, bias_scores, bot_labels\n",
    ")\n",
    "metrics_louvain['runtime'] = louvain_time\n",
    "\n",
    "print(f\"✅ Louvain Padrão concluído em {louvain_time:.2f}s\")"
   ]
  },
  {
   "cell_type": "markdown",
   "metadata": {
    "id": "KnILl-B3ebh8"
   },
   "source": [
    "## 📈 Passo 6: Resultados Finais e Comparação\n",
    "\n",
    "Aqui vemos se o nosso método (Enhanced) supera o Baseline (Padrão) nas métricas-chave do artigo: **Separação de Viés** e **Pureza de Viés** [cite: 136-138]."
   ]
  },
  {
   "cell_type": "code",
   "execution_count": 8,
   "metadata": {
    "id": "8BtqJVAkebh8"
   },
   "outputs": [
    {
     "name": "stdout",
     "output_type": "stream",
     "text": [
      "\n",
      "============================================================\n",
      "📊 RESULTADOS FINAIS (Full Scale TwiBot-22)\n",
      "============================================================\n",
      "\n",
      "📈 COMPARAÇÃO: Enhanced Louvain (α=0.5) vs Louvain Padrão (α=0.0)\n",
      "--------------------------------------------------\n",
      "          modularity:  0.3926 vs  0.4752 (-17.4%)\n",
      "         bias_purity:  0.9460 vs  0.9470 (-0.1%)\n",
      "     bias_separation:  0.0229 vs  0.0279 (-18.0%)\n",
      "bot_concentration_max:  0.0000 vs  0.0000 (+0.0%)\n",
      "\n",
      "--- Métricas Detalhadas ---\n",
      "|                          |   modularity |   bias_separation |   bias_purity |   bot_concentration_max |   num_communities |   runtime |\n",
      "|:-------------------------|-------------:|------------------:|--------------:|------------------------:|------------------:|----------:|\n",
      "| Enhanced Louvain (α=0.5) |       0.3926 |            0.0229 |        0.9460 |                  0.0000 |            2.0000 |    0.0016 |\n",
      "| Louvain Padrão (α=0.0)   |       0.4752 |            0.0279 |        0.9470 |                  0.0000 |            3.0000 |    0.0007 |\n"
     ]
    }
   ],
   "source": [
    "print(\"\\n\" + \"=\" * 60)\n",
    "print(\"📊 RESULTADOS FINAIS (Full Scale TwiBot-22)\")\n",
    "print(\"=\" * 60)\n",
    "\n",
    "ComprehensiveEvaluator.print_comparison(\n",
    "    metrics_enhanced,\n",
    "    metrics_louvain,\n",
    "    \"Enhanced Louvain (α=0.5)\",\n",
    "    \"Louvain Padrão (α=0.0)\"\n",
    ")\n",
    "\n",
    "print(\"\\n--- Métricas Detalhadas ---\")\n",
    "df_results = pd.DataFrame({\n",
    "    \"Enhanced Louvain (α=0.5)\": metrics_enhanced,\n",
    "    \"Louvain Padrão (α=0.0)\": metrics_louvain\n",
    "}).T\n",
    "\n",
    "print(df_results[['modularity', 'bias_separation', 'bias_purity', 'bot_concentration_max', 'num_communities', 'runtime']].to_markdown(floatfmt=\".4f\"))"
   ]
  },
  {
   "cell_type": "markdown",
   "metadata": {
    "id": "JTBT4v8Webh8"
   },
   "source": [
    "## 🔍 Passo 7: Análise Detalhada das Comunidades\n",
    "\n",
    "Vamos inspecionar as duas comunidades que nosso método encontrou."
   ]
  },
  {
   "cell_type": "code",
   "execution_count": 9,
   "metadata": {
    "id": "aufcNaRyebh8"
   },
   "outputs": [
    {
     "name": "stdout",
     "output_type": "stream",
     "text": [
      "\n",
      "🔍 Análise Detalhada (Enhanced Louvain)\n",
      "\n",
      "🏷️  Comunidade 0:\n",
      "   • 7 nós (58.3%)\n",
      "   • Viés médio: 0.318 (±0.276)\n",
      "   • Bots: 0/7 (0.0%)\n",
      "\n",
      "🏷️  Comunidade 1:\n",
      "   • 5 nós (41.7%)\n",
      "   • Viés médio: 0.015 (±0.179)\n",
      "   • Bots: 0/5 (0.0%)\n",
      "\n",
      "============================================================\n",
      "🎉 EXPERIMENTO COMPLETO CONCLUÍDO!\n",
      "============================================================\n"
     ]
    }
   ],
   "source": [
    "print(\"\\n🔍 Análise Detalhada (Enhanced Louvain)\")\n",
    "\n",
    "comm_nodes_map = defaultdict(list)\n",
    "for node, comm in communities_enhanced.items():\n",
    "    comm_nodes_map[comm].append(node)\n",
    "\n",
    "for comm_id in sorted(comm_nodes_map.keys()):\n",
    "    comm_nodes = comm_nodes_map[comm_id]\n",
    "    comm_biases = [bias_scores.get(node, 0) for node in comm_nodes]\n",
    "    comm_bots = [bot_labels.get(node, False) for node in comm_nodes]\n",
    "\n",
    "    print(f\"\\n🏷️  Comunidade {comm_id}:\")\n",
    "    print(f\"   • {len(comm_nodes):,} nós ({len(comm_nodes) / G.number_of_nodes():.1%})\")\n",
    "    print(f\"   • Viés médio: {np.mean(comm_biases):.3f} (±{np.std(comm_biases):.3f})\")\n",
    "    print(f\"   • Bots: {sum(comm_bots):,}/{len(comm_bots):,} ({sum(comm_bots)/len(comm_bots):.1%})\")\n",
    "\n",
    "print(\"\\n\" + \"=\" * 60)\n",
    "print(\"🎉 EXPERIMENTO COMPLETO CONCLUÍDO!\")\n",
    "print(\"=\" * 60)"
   ]
  }
 ],
 "metadata": {
  "accelerator": "GPU",
  "colab": {
   "gpuType": "A100",
   "machine_shape": "hm",
   "provenance": []
  },
  "kernelspec": {
   "display_name": ".venv (3.13.9)",
   "language": "python",
   "name": "python3"
  },
  "language_info": {
   "codemirror_mode": {
    "name": "ipython",
    "version": 3
   },
   "file_extension": ".py",
   "mimetype": "text/x-python",
   "name": "python",
   "nbconvert_exporter": "python",
   "pygments_lexer": "ipython3",
   "version": "3.13.9"
  }
 },
 "nbformat": 4,
 "nbformat_minor": 0
}
