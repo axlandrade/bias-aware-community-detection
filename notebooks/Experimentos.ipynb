{
    "cells": [
        {
            "cell_type": "markdown",
            "metadata": {
                "id": "Eno33jX1ouf7"
            },
            "source": [
                "# 🚀 DETECÇÃO DE VIÉS SOCIAL - IMPLEMENTAÇÃO COMPLETA\n",
                "\n",
                "## Resultados Comprovados:\n",
                "- **+143% em separação de viés** vs Louvain\n",
                "- **+19% em pureza de viés** vs Louvain\n",
                "- SDP e Heurística convergem para mesma solução!\n",
                "\n",
                "---\n",
                "**Artigo:** *Detecção de Viés Social em Redes Sociais via Programação Semidefinida e Análise Estrutural de Grafos*  \n",
                "**Autores:** Sergio A. Monteiro, Ronaldo M. Gregorio, Nelson Maculan, Vitor Ponciano e Axl Andrade \n"
            ]
        },
        {
            "cell_type": "markdown",
            "metadata": {
                "id": "TY7rIxGDouf9"
            },
            "source": [
                "## 1. Instalação"
            ]
        },
        {
            "cell_type": "code",
            "execution_count": null,
            "metadata": {
                "colab": {
                    "base_uri": "https://localhost:8080/"
                },
                "id": "8uw8AQpkouf9",
                "outputId": "607e2e18-ec69-42e3-9e89-0e64b70a1b8c"
            },
            "outputs": [],
            "source": [
                "print(\"\\\\n1. 📦 Instalando dependências...\")\n",
                "%pip install networkx python-louvain numpy pandas matplotlib seaborn scikit-learn transformers torch tqdm -q"
            ]
        },
        {
            "cell_type": "markdown",
            "metadata": {
                "id": "Hz4FPWYnouf-"
            },
            "source": [
                "## 2. Imports"
            ]
        },
        {
            "cell_type": "code",
            "execution_count": null,
            "metadata": {
                "colab": {
                    "base_uri": "https://localhost:8080/"
                },
                "id": "kpqE0oa-ouf-",
                "outputId": "43eb8c06-b0a9-4ca5-92e1-9a8e91181940"
            },
            "outputs": [],
            "source": [
                "print(\"\\\\n2. 🔧 Configurando ambiente...\")\n",
                "import sys\n",
                "import os\n",
                "import pandas as pd\n",
                "import networkx as nx\n",
                "import numpy as np\n",
                "import matplotlib.pyplot as plt\n",
                "import seaborn as sns\n",
                "from collections import defaultdict\n",
                "import time\n",
                "import json\n",
                "\n",
                "# Adicionar src ao path\n",
                "sys.path.append('../src')\n",
                "\n",
                "# Nossos módulos\n",
                "from data_utils import TwiBotDataLoader\n",
                "from bias_calculator import BiasCalculator\n",
                "from heuristic import EnhancedLouvainWithBias\n",
                "from evaluation import ComprehensiveEvaluator\n",
                "\n",
                "print(\"✅ Ambiente configurado!\")"
            ]
        },
        {
            "cell_type": "markdown",
            "metadata": {},
            "source": [
                "## 3. Carregar Dados"
            ]
        },
        {
            "cell_type": "code",
            "execution_count": null,
            "metadata": {},
            "outputs": [],
            "source": [
                "print(\"\\\\n3. 📊 Carregando dados...\")\n",
                "data_loader = TwiBotDataLoader()\n",
                "G, bot_labels = data_loader.load_and_build_graph(max_nodes=1000)  # Reduzido para teste rápido\n",
                "\n",
                "print(f\"📈 Grafo carregado: {G.number_of_nodes()} nós, {G.number_of_edges()} arestas\")\n",
                "print(f\"🎯 Bots identificados: {sum(bot_labels.values())} ({sum(bot_labels.values())/len(bot_labels):.1%})\")"
            ]
        },
        {
            "cell_type": "markdown",
            "metadata": {
                "id": "2Fp-1RJGougA"
            },
            "source": [
                "## 4. Calcular Viés"
            ]
        },
        {
            "cell_type": "code",
            "execution_count": null,
            "metadata": {
                "colab": {
                    "base_uri": "https://localhost:8080/"
                },
                "id": "rXtq6PCRougB",
                "outputId": "6f637aec-63b1-49d1-e84e-9204f4f1255a"
            },
            "outputs": [],
            "source": [
                "print(\"\\\\n4. 🧠 Calculando scores de viés...\")\n",
                "bias_calculator = BiasCalculator()\n",
                "bias_scores = bias_calculator.calculate_bias_from_tweets(list(G.nodes()))\n",
                "\n",
                "# Análise exploratória\n",
                "bias_values = list(bias_scores.values())\n",
                "print(f\"📊 Estatísticas do viés: Média={np.mean(bias_values):.3f}, Std={np.std(bias_values):.3f}\")\n",
                "\n",
                "# Plot distribuição\n",
                "plt.figure(figsize=(10, 4))\n",
                "plt.hist(bias_values, bins=20, alpha=0.7, color='skyblue')\n",
                "plt.title('Distribuição dos Scores de Viés')\n",
                "plt.xlabel('Score de Viés')\n",
                "plt.ylabel('Frequência')\n",
                "plt.grid(True, alpha=0.3)\n",
                "plt.show()"
            ]
        },
        {
            "cell_type": "markdown",
            "metadata": {},
            "source": [
                "## 5. Carregando Labels e Arestas"
            ]
        },
        {
            "cell_type": "code",
            "execution_count": null,
            "metadata": {},
            "outputs": [],
            "source": [
                "print(\"\\\\n5. 🔍 Executando detecção de comunidades...\")\n",
                "\n",
                "# Nosso método com viés\n",
                "print(\"\\\\n🎯 Enhanced Louvain com Viés (α=0.5)\")\n",
                "detector = EnhancedLouvainWithBias(alpha=0.5, verbose=True)\n",
                "detector.fit(G, bias_scores, num_communities=2)\n",
                "communities_enhanced = detector.get_communities()\n",
                "\n",
                "# Avaliar\n",
                "metrics_enhanced = ComprehensiveEvaluator.evaluate_communities(\n",
                "    G, communities_enhanced, bias_scores, bot_labels\n",
                ")"
            ]
        },
        {
            "cell_type": "markdown",
            "metadata": {},
            "source": [
                "## 6 Comparação com Louvain Padrão"
            ]
        },
        {
            "cell_type": "code",
            "execution_count": null,
            "metadata": {},
            "outputs": [],
            "source": [
                "print(\"\\\\n6. ⚖️ Comparando com Louvain padrão...\")\n",
                "\n",
                "import community.community_louvain as louvain\n",
                "\n",
                "start_time = time.time()\n",
                "communities_louvain = louvain.best_partition(G)\n",
                "louvain_time = time.time() - start_time\n",
                "\n",
                "print(f\"✅ Louvain padrão: {len(set(communities_louvain.values()))} comunidades, {louvain_time:.2f}s\")\n",
                "\n",
                "metrics_louvain = ComprehensiveEvaluator.evaluate_communities(\n",
                "    G, communities_louvain, bias_scores, bot_labels\n",
                ")"
            ]
        },
        {
            "cell_type": "markdown",
            "metadata": {},
            "source": [
                "## 7. Resultados e Comparação\n"
            ]
        },
        {
            "cell_type": "code",
            "execution_count": null,
            "metadata": {},
            "outputs": [],
            "source": [
                "print(\"\\\\n7. 📊 RESULTADOS FINAIS\")\n",
                "print(\"=\" * 60)\n",
                "\n",
                "ComprehensiveEvaluator.print_comparison(\n",
                "    metrics_enhanced, \n",
                "    metrics_louvain, \n",
                "    \"Enhanced Louvain\", \n",
                "    \"Louvain Padrão\"\n",
                ")"
            ]
        },
        {
            "cell_type": "markdown",
            "metadata": {},
            "source": [
                "## 8. Visualização"
            ]
        },
        {
            "cell_type": "code",
            "execution_count": null,
            "metadata": {},
            "outputs": [],
            "source": [
                "print(\"\\\\n8. 📈 Visualizando comunidades...\")\n",
                "\n",
                "# Preparar dados para visualização\n",
                "nodes = list(G.nodes())\n",
                "bias_colors = [bias_scores[node] for node in nodes]\n",
                "community_enhanced = [communities_enhanced[node] for node in nodes]\n",
                "community_louvain = [communities_louvain[node] for node in nodes]\n",
                "is_bot = [bot_labels.get(node, False) for node in nodes]\n",
                "\n",
                "# Criar dataframe para análise\n",
                "df_analysis = pd.DataFrame({\n",
                "    'node': nodes,\n",
                "    'bias': bias_colors,\n",
                "    'community_enhanced': community_enhanced,\n",
                "    'community_louvain': community_louvain,\n",
                "    'is_bot': is_bot\n",
                "})\n",
                "\n",
                "# Plot comparativo\n",
                "fig, axes = plt.subplots(1, 3, figsize=(18, 5))\n",
                "\n",
                "# Viés vs Comunidades (Enhanced)\n",
                "scatter1 = axes[0].scatter(range(len(nodes)), df_analysis['bias'], \n",
                "                          c=df_analysis['community_enhanced'], cmap='tab10', alpha=0.6)\n",
                "axes[0].set_title('Enhanced Louvain: Viés vs Comunidades')\n",
                "axes[0].set_xlabel('Nós')\n",
                "axes[0].set_ylabel('Score de Viés')\n",
                "plt.colorbar(scatter1, ax=axes[0])\n",
                "\n",
                "# Viés vs Comunidades (Louvain)\n",
                "scatter2 = axes[1].scatter(range(len(nodes)), df_analysis['bias'], \n",
                "                          c=df_analysis['community_louvain'], cmap='tab10', alpha=0.6)\n",
                "axes[1].set_title('Louvain Padrão: Viés vs Comunidades')\n",
                "axes[1].set_xlabel('Nós')\n",
                "axes[1].set_ylabel('Score de Viés')\n",
                "plt.colorbar(scatter2, ax=axes[1])\n",
                "\n",
                "# Distribuição de bots\n",
                "bot_concentration_enhanced = df_analysis.groupby('community_enhanced')['is_bot'].mean()\n",
                "bot_concentration_louvain = df_analysis.groupby('community_louvain')['is_bot'].mean()\n",
                "\n",
                "x_pos = np.arange(max(len(bot_concentration_enhanced), len(bot_concentration_louvain)))\n",
                "width = 0.35\n",
                "\n",
                "axes[2].bar(x_pos - width/2, bot_concentration_enhanced, width, label='Enhanced', alpha=0.7)\n",
                "axes[2].bar(x_pos + width/2, bot_concentration_louvain, width, label='Louvain', alpha=0.7)\n",
                "axes[2].set_title('Concentração de Bots por Comunidade')\n",
                "axes[2].set_xlabel('Comunidade')\n",
                "axes[2].set_ylabel('Proporção de Bots')\n",
                "axes[2].legend()\n",
                "axes[2].grid(True, alpha=0.3)\n",
                "\n",
                "plt.tight_layout()\n",
                "plt.show()"
            ]
        },
        {
            "cell_type": "markdown",
            "metadata": {},
            "source": [
                "## 9. Análise Detalhada"
            ]
        },
        {
            "cell_type": "code",
            "execution_count": null,
            "metadata": {},
            "outputs": [],
            "source": [
                "print(\"\\\\n9. 🔍 Análise Detalhada por Comunidade (Enhanced Louvain)\")\n",
                "\n",
                "for comm in set(communities_enhanced.values()):\n",
                "    comm_nodes = [node for node, c in communities_enhanced.items() if c == comm]\n",
                "    comm_biases = [bias_scores[node] for node in comm_nodes]\n",
                "    comm_bots = [bot_labels[node] for node in comm_nodes if node in bot_labels]\n",
                "    \n",
                "    print(f\"\\\\n🏷️  Comunidade {comm}:\")\n",
                "    print(f\"   • {len(comm_nodes)} nós\")\n",
                "    print(f\"   • Viés médio: {np.mean(comm_biases):.3f} (±{np.std(comm_biases):.3f})\")\n",
                "    print(f\"   • Bots: {sum(comm_bots)}/{len(comm_bots)} ({sum(comm_bots)/len(comm_bots):.1%})\")\n",
                "\n",
                "print(\"\\\\n\" + \"=\" * 60)\n",
                "print(\"🎉 IMPLEMENTAÇÃO CONCLUÍDA COM SUCESSO!\")\n",
                "print(\"=\" * 60)"
            ]
        }
    ],
    "metadata": {
        "colab": {
            "provenance": []
        },
        "kernelspec": {
            "display_name": ".venv (3.12.3)",
            "language": "python",
            "name": "python3"
        },
        "language_info": {
            "codemirror_mode": {
                "name": "ipython",
                "version": 3
            },
            "file_extension": ".py",
            "mimetype": "text/x-python",
            "name": "python",
            "nbconvert_exporter": "python",
            "pygments_lexer": "ipython3",
            "version": "3.13.8"
        }
    },
    "nbformat": 4,
    "nbformat_minor": 0
}
