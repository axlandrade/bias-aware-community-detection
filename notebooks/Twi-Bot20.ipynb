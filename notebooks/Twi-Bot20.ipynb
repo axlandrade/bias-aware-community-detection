{
    "cells": [
        {
            "cell_type": "markdown",
            "metadata": {},
            "source": [
                "# 🧪 Experimento TwiBot-20 (Completo)\n",
                "\n",
                "Validando a metodologia do artigo nos dados completos do TwiBot-20 (formato JSON), conforme o README.\n",
                "\n",
                "**IMPORTANTE:** Este notebook assume que você substituiu `config.py`, `data_utils.py` (para `TwiBotDataLoader`) e `bias_calculator.py` (para ler `tweet_*.json`) pelas versões corretas."
            ]
        },
        {
            "cell_type": "markdown",
            "metadata": {},
            "source": [
                "## ⚙️ Passo 0: Configuração do Ambiente"
            ]
        },
        {
            "cell_type": "code",
            "execution_count": 1,
            "metadata": {},
            "outputs": [
                {
                    "name": "stdout",
                    "output_type": "stream",
                    "text": [
                        "Diretório de trabalho: e:\\Projetos\\bias-aware-community-detection\n",
                        "📦 Instalando e atualizando dependências...\n",
                        "✅ Dependências instaladas!\n"
                    ]
                }
            ],
            "source": [
                "# (Apenas para Colab - Pule se estiver rodando localmente)\n",
                "# print(\"Montando Google Drive...\")\n",
                "# from google.colab import drive\n",
                "# drive.mount('/content/drive')\n",
                "\n",
                "import os\n",
                "# (Edite para o seu caminho.)\n",
                "project_path_on_drive = '..' \n",
                "os.chdir(project_path_on_drive)\n",
                "\n",
                "print(f\"Diretório de trabalho: {os.getcwd()}\")\n",
                "\n",
                "print(\"📦 Instalando e atualizando dependências...\")\n",
                "# (Use !pip3 no Colab, pip no local)\n",
                "!pip install --upgrade torch torchvision torchaudio --index-url https://download.pytorch.org/whl/cu130 -q\n",
                "!pip install --upgrade networkx python-louvain pandas tqdm psutil transformers[torch] matplotlib seaborn tabulate cvxpy -q\n",
                "print(\"✅ Dependências instaladas!\")"
            ]
        },
        {
            "cell_type": "code",
            "execution_count": 2,
            "metadata": {},
            "outputs": [
                {
                    "name": "stdout",
                    "output_type": "stream",
                    "text": [
                        "🔧 Importando módulos e configurando ambiente...\n",
                        "\n",
                        "--- Verificação de Hardware ---\n",
                        "✅ GPU: NVIDIA GeForce RTX 3060\n",
                        "✅ CPUs: 12 (Config.NUM_WORKERS=10)\n",
                        "✅ Caminho de dados: e:\\Projetos\\bias-aware-community-detection\\TwiBot-20\\train.json\n",
                        "✅ Ambiente pronto!\n"
                    ]
                }
            ],
            "source": [
                "print(\"🔧 Importando módulos e configurando ambiente...\")\n",
                "\n",
                "import sys\n",
                "import time\n",
                "import json\n",
                "import torch\n",
                "import numpy as np\n",
                "import pandas as pd\n",
                "import networkx as nx\n",
                "import matplotlib.pyplot as plt\n",
                "import community.community_louvain as louvain\n",
                "import warnings\n",
                "import random\n",
                "from collections import defaultdict\n",
                "\n",
                "# Adicionar 'src' ao sys.path\n",
                "project_dir_to_add = os.getcwd()\n",
                "if project_dir_to_add not in sys.path:\n",
                "    sys.path.append(project_dir_to_add)\n",
                "\n",
                "# Importar nossos módulos (TwiBot-20 Completo)\n",
                "try:\n",
                "    from src.config import Config\n",
                "    from src.data_utils import TwiBot20Loader # <-- Lendo JSON\n",
                "    from src.bias_calculator import BiasCalculator # <-- Lendo JSON\n",
                "    from src.heuristic import EnhancedLouvainWithBias \n",
                "    from src.evaluation import ComprehensiveEvaluator\n",
                "except ImportError as e:\n",
                "    print(f\"❌ ERRO: Não foi possível importar os módulos. Verifique os arquivos .py.\")\n",
                "    print(f\"Detalhe: {e}\")\n",
                "    raise e\n",
                "\n",
                "cfg = Config()\n",
                "warnings.filterwarnings('ignore')\n",
                "plt.style.use('seaborn-v0_8-whitegrid')\n",
                "np.random.seed(cfg.RANDOM_STATE)\n",
                "random.seed(cfg.RANDOM_STATE)\n",
                "\n",
                "print(\"\\n--- Verificação de Hardware ---\")\n",
                "if torch.cuda.is_available():\n",
                "    print(f\"✅ GPU: {torch.cuda.get_device_name(0)}\")\n",
                "else:\n",
                "    print(\"❌ GPU NÃO DETECTADA. Usando CPU.\")\n",
                "print(f\"✅ CPUs: {os.cpu_count()} (Config.NUM_WORKERS={cfg.NUM_WORKERS})\")\n",
                "print(f\"✅ Caminho de dados: {cfg.TWIBOT20_FILE}\")\n",
                "print(\"✅ Ambiente pronto!\")"
            ]
        },
        {
            "cell_type": "markdown",
            "metadata": {},
            "source": [
                "## 📊 Passo 1: Carregar Grafo (TwiBot-20 Completo)\n",
                "\n",
                "Carrega o grafo a partir do `train.json` (ou qualquer arquivo definido no `config.py`), lendo as chaves `ID`, `label` e `neighbor`."
            ]
        },
        {
            "cell_type": "code",
            "execution_count": 3,
            "metadata": {},
            "outputs": [
                {
                    "name": "stdout",
                    "output_type": "stream",
                    "text": [
                        "📊 Carregando/Construindo Grafo (TwiBot-20 Completo)...\n",
                        "📊 Fase 1: Carregando/Construindo Grafo (TwiBot-20)...\n",
                        "   Arquivos de cache encontrados! Carregando...\n",
                        "   ✅ Grafo (cache): 4,327 nós, 5,393 arestas.\n",
                        "   ↳ Tempo total: 0.01s\n",
                        "\n",
                        "📈 Grafo Carregado: 4,327 nós, 5,393 arestas\n",
                        "🎯 Bots Identificados: 2,108 (48.7%)\n"
                    ]
                }
            ],
            "source": [
                "import time\n",
                "\n",
                "print(\"📊 Carregando/Construindo Grafo (TwiBot-20 Completo)...\")\n",
                "start_load = time.time()\n",
                "\n",
                "data_loader = TwiBot20Loader()\n",
                "\n",
                "# max_nodes=None para carregar o arquivo JSON completo\n",
                "G, bot_labels = data_loader.load_and_build_graph(max_nodes=None)\n",
                "\n",
                "load_time = time.time() - start_load\n",
                "print(f\"   ↳ Tempo total: {load_time:.2f}s\")\n",
                "print(f\"\\n📈 Grafo Carregado: {G.number_of_nodes():,} nós, {G.number_of_edges():,} arestas\")\n",
                "print(f\"🎯 Bots Identificados: {sum(bot_labels.values()):,} ({sum(bot_labels.values())/len(bot_labels):.1%})\")"
            ]
        },
        {
            "cell_type": "markdown",
            "metadata": {},
            "source": [
                "## 🧠 Passo 2: Calcular Scores de Viés (TwiBot-20 Completo)\n",
                "\n",
                "Processa a lista de usuários em paralelo, lendo os tweets da chave `'tweet'` de cada um."
            ]
        },
        {
            "cell_type": "code",
            "execution_count": 4,
            "metadata": {},
            "outputs": [
                {
                    "name": "stdout",
                    "output_type": "stream",
                    "text": [
                        "🧠 Calculando/Carregando Scores de Viés (TwiBot-20 Completo)...\n",
                        "\n",
                        "🧠 Fase 2: Calculando/Carregando Scores de Viés (MODELO POLITICS)...\n",
                        "   Arquivo de cache 'e:\\Projetos\\bias-aware-community-detection\\processed_data_tw20_json\\tw20_bias_scores.json' encontrado! Carregando...\n",
                        "   ✅ Scores carregados para 4327 usuários.\n",
                        "   ↳ Tempo total: 0.00s\n",
                        "\n",
                        "📊 Estatísticas do Viés (Nós com tweets: 4,291):\n",
                        "   Média=-0.170, Std=0.244\n"
                    ]
                },
                {
                    "data": {
                        "image/png": "[encoded data removed]",
                        "text/plain": [
                            "<Figure size 1000x400 with 1 Axes>"
                        ]
                    },
                    "metadata": {},
                    "output_type": "display_data"
                }
            ],
            "source": [
                "print(\"🧠 Calculando/Carregando Scores de Viés (TwiBot-20 Completo)...\")\n",
                "start_bias = time.time()\n",
                "\n",
                "bias_calculator = BiasCalculator()\n",
                "\n",
                "# Passa o SET de nós (strings) do grafo G\n",
                "bias_scores = bias_calculator.get_or_calculate_bias_scores(set(G.nodes()))\n",
                "\n",
                "bias_time = time.time() - start_bias\n",
                "print(f\"   ↳ Tempo total: {bias_time:.2f}s\")\n",
                "\n",
                "# Análise exploratória\n",
                "bias_values = [s for s in bias_scores.values() if s != 0.0]\n",
                "if bias_values:\n",
                "    print(f\"\\n📊 Estatísticas do Viés (Nós com tweets: {len(bias_values):,}):\")\n",
                "    print(f\"   Média={np.mean(bias_values):.3f}, Std={np.std(bias_values):.3f}\")\n",
                "    \n",
                "    plt.figure(figsize=(10, 4))\n",
                "    plt.hist(bias_values, bins=50, alpha=0.7, color='blue')\n",
                "    plt.title('Distribuição dos Scores de Viés (TwiBot-20 Completo)')\n",
                "    plt.xlabel('Score de Viés')\n",
                "    plt.ylabel('Frequência')\n",
                "    plt.show()\n",
                "else:\n",
                "    print(\"⚠️ Nenhum score de viés foi calculado (nenhum usuário tinha tweets?).\")"
            ]
        },
        {
            "cell_type": "markdown",
            "metadata": {},
            "source": [
                "## 🎯 Passo 3: Executar Heurística & Baseline"
            ]
        },
        {
            "cell_type": "code",
            "execution_count": 5,
            "metadata": {},
            "outputs": [
                {
                    "name": "stdout",
                    "output_type": "stream",
                    "text": [
                        "\n",
                        "🎯 Executando Enhanced Louvain com Viés (α=0.5)...\n",
                        "🎯 Executando Enhanced Louvain (α=0.5)...\n",
                        "   Fase 1: Executando Louvain padrão para partição inicial...\n",
                        "   Fase 2: Iniciando refinamento iterativo (max_iter=20)...\n",
                        "      Iter 1/20: 166 movimentos.\n",
                        "      Iter 2/20: 32 movimentos.\n",
                        "      Iter 3/20: 9 movimentos.\n",
                        "      Iter 4/20: 0 movimentos.\n",
                        "      Convergência atingida.\n",
                        "   Fase 3: Balanceando para 2 comunidades...\n",
                        "✅ Concluído em 0.73s (207 movimentos no refinamento)\n",
                        "📊 Estatísticas Finais das Comunidades:\n",
                        "  Comunidade 1:    252 nós, viés médio: +0.123 (±0.279)\n",
                        "  Comunidade 3:  4,075 nós, viés médio: -0.186 (±0.230)\n",
                        "\n",
                        "⚖️ Executando Louvain Padrão (Baseline)...\n",
                        "\n",
                        "⚙️ Avaliando resultados...\n",
                        "✅ Detecção e avaliação concluídas.\n"
                    ]
                }
            ],
            "source": [
                "print(f\"\\n🎯 Executando Enhanced Louvain com Viés (α={cfg.ALPHA})...\")\n",
                "start_enhanced = time.time()\n",
                "detector = EnhancedLouvainWithBias(alpha=cfg.ALPHA, verbose=True)\n",
                "detector.fit(G, bias_scores, num_communities=2)\n",
                "communities_enhanced = detector.get_communities()\n",
                "enhanced_time = time.time() - start_enhanced\n",
                "\n",
                "print(\"\\n⚖️ Executando Louvain Padrão (Baseline)...\")\n",
                "start_louvain = time.time()\n",
                "communities_louvain = louvain.best_partition(G, random_state=cfg.RANDOM_STATE)\n",
                "louvain_time = time.time() - start_louvain\n",
                "\n",
                "print(\"\\n⚙️ Avaliando resultados...\")\n",
                "metrics_enhanced = ComprehensiveEvaluator.evaluate_communities(\n",
                "    G, communities_enhanced, bias_scores, bot_labels\n",
                ")\n",
                "metrics_enhanced['runtime'] = enhanced_time\n",
                "\n",
                "metrics_louvain = ComprehensiveEvaluator.evaluate_communities(\n",
                "    G, communities_louvain, bias_scores, bot_labels\n",
                ")\n",
                "metrics_louvain['runtime'] = louvain_time\n",
                "print(\"✅ Detecção e avaliação concluídas.\")"
            ]
        },
        {
            "cell_type": "markdown",
            "metadata": {},
            "source": [
                "## 📈 Passo 4: Resultados (TwiBot-20 Completo)"
            ]
        },
        {
            "cell_type": "code",
            "execution_count": null,
            "metadata": {},
            "outputs": [
                {
                    "name": "stdout",
                    "output_type": "stream",
                    "text": [
                        "\n",
                        "============================================================\n",
                        "📊 RESULTADOS FINAIS (TwiBot-20 Completo)\n",
                        "============================================================\n",
                        "\n",
                        "📈 COMPARAÇÃO: Enhanced Louvain (α=0.5) vs Louvain Padrão (α=0.0)\n",
                        "--------------------------------------------------\n",
                        "          modularity:  0.1012 vs  0.8168 (-87.6%)\n",
                        "         bias_purity:  0.9348 vs  0.9488 (-1.5%)\n",
                        "     bias_separation:  0.0239 vs  0.0047 (+402.5%)\n",
                        "bot_concentration_max:  0.6071 vs  0.7778 (-21.9%)\n",
                        "\n",
                        "--- Métricas Detalhadas ---\n",
                        "|                          |   modularity |   bias_separation |   bias_purity |   bot_concentration_max |   num_communities |   runtime |\n",
                        "|:-------------------------|-------------:|------------------:|--------------:|------------------------:|------------------:|----------:|\n",
                        "| Enhanced Louvain (α=0.5) |       0.1012 |            0.0239 |        0.9348 |                  0.6071 |            2.0000 |    0.7320 |\n",
                        "| Louvain Padrão (α=0.0)   |       0.8168 |            0.0047 |        0.9488 |                  0.7778 |           51.0000 |    0.3069 |\n"
                    ]
                },
                {
                    "ename": "",
                    "evalue": "",
                    "output_type": "error",
                    "traceback": [
                        "\u001b[1;31mO Kernel deu pane ao executar o código na célula atual ou em uma célula anterior. \n",
                        "\u001b[1;31mAnalise o código nas células para identificar uma possível causa da pane. \n",
                        "\u001b[1;31mClique <a href='https://aka.ms/vscodeJupyterKernelCrash'>aqui</a> para obter mais informações. \n",
                        "\u001b[1;31mConsulte Jupyter <a href='command:jupyter.viewOutput'>log</a> para obter mais detalhes."
                    ]
                }
            ],
            "source": [
                "print(\"\\n\" + \"=\" * 60)\n",
                "print(\"📊 RESULTADOS FINAIS (TwiBot-20 Completo)\")\n",
                "print(\"=\" * 60)\n",
                "\n",
                "ComprehensiveEvaluator.print_comparison(\n",
                "    metrics_enhanced,\n",
                "    metrics_louvain,\n",
                "    \"Enhanced Louvain (α=0.5)\",\n",
                "    \"Louvain Padrão (α=0.0)\"\n",
                ")\n",
                "\n",
                "print(\"\\n--- Métricas Detalhadas ---\")\n",
                "df_results = pd.DataFrame({\n",
                "    \"Enhanced Louvain (α=0.5)\": metrics_enhanced,\n",
                "    \"Louvain Padrão (α=0.0)\": metrics_louvain\n",
                "}).T\n",
                "\n",
                "print(df_results[['modularity', 'bias_separation', 'bias_purity', 'bot_concentration_max', 'num_communities', 'runtime']].to_markdown(floatfmt=\".4f\"))"
            ]
        },
        {
            "cell_type": "markdown",
            "metadata": {},
            "source": [
                "## Passo 5 - Validar com o Modelo SDP"
            ]
        },
        {
            "cell_type": "code",
            "execution_count": null,
            "metadata": {},
            "outputs": [
                {
                    "name": "stdout",
                    "output_type": "stream",
                    "text": [
                        "\n",
                        "============================================================\n",
                        "🔬 PASSO 5: Validando com o Modelo SDP (Programação Semidefinida)\n",
                        "============================================================\n",
                        "Rodando SDP no grafo de 4327 nós (deve ser rápido)...\n"
                    ]
                },
                {
                    "name": "stderr",
                    "output_type": "stream",
                    "text": [
                        "(CVXPY) Oct 29 04:36:38 AM: Your problem has 18722929 variables, 18727256 constraints, and 0 parameters.\n",
                        "(CVXPY) Oct 29 04:36:38 AM: It is compliant with the following grammars: DCP, DQCP\n",
                        "(CVXPY) Oct 29 04:36:38 AM: (If you need to solve this problem multiple times, but with different data, consider using parameters.)\n",
                        "(CVXPY) Oct 29 04:36:38 AM: CVXPY will first compile your problem; then, it will invoke a numerical solver to obtain a solution.\n",
                        "(CVXPY) Oct 29 04:36:38 AM: Your problem is compiled with the CPP canonicalization backend.\n",
                        "(CVXPY) Oct 29 04:36:38 AM: Compiling problem (target solver=SCS).\n",
                        "(CVXPY) Oct 29 04:36:38 AM: Reduction chain: FlipObjective -> Dcp2Cone -> CvxAttr2Constr -> ConeMatrixStuffing -> SCS\n",
                        "(CVXPY) Oct 29 04:36:38 AM: Applying reduction FlipObjective\n",
                        "(CVXPY) Oct 29 04:36:38 AM: Applying reduction Dcp2Cone\n",
                        "(CVXPY) Oct 29 04:36:38 AM: Applying reduction CvxAttr2Constr\n"
                    ]
                },
                {
                    "name": "stdout",
                    "output_type": "stream",
                    "text": [
                        "===============================================================================\n",
                        "                                     CVXPY                                     \n",
                        "                                     v1.7.3                                    \n",
                        "===============================================================================\n",
                        "-------------------------------------------------------------------------------\n",
                        "                                  Compilation                                  \n",
                        "-------------------------------------------------------------------------------\n"
                    ]
                },
                {
                    "name": "stderr",
                    "output_type": "stream",
                    "text": [
                        "(CVXPY) Oct 29 04:36:39 AM: Applying reduction ConeMatrixStuffing\n"
                    ]
                }
            ],
            "source": [
                "print(\"\\n\" + \"=\" * 60)\n",
                "print(\"🔬 PASSO 5: Validando com o Modelo SDP (Programação Semidefinida)\")\n",
                "print(\"=\" * 60)\n",
                "print(f\"Rodando SDP no grafo de {G.number_of_nodes()} nós (deve ser rápido)...\")\n",
                "\n",
                "from src.sdp_model import BiasAwareSDP\n",
                "from src.evaluation import ComprehensiveEvaluator\n",
                "import pandas as pd\n",
                "\n",
                "try:\n",
                "    start_sdp = time.time()\n",
                "    \n",
                "    # 1. Executar o SDP\n",
                "    sdp_detector = BiasAwareSDP(alpha=cfg.ALPHA, verbose=True)\n",
                "    sdp_detector.fit(G, bias_scores)\n",
                "    sdp_time = time.time() - start_sdp\n",
                "    \n",
                "    communities_sdp = sdp_detector.get_communities()\n",
                "    \n",
                "    # 2. Avaliar o SDP\n",
                "    metrics_sdp = ComprehensiveEvaluator.evaluate_communities(\n",
                "        G, communities_sdp, bias_scores, bot_labels\n",
                "    )\n",
                "    metrics_sdp['runtime'] = sdp_time\n",
                "    print(f\"✅ SDP concluído em {sdp_time:.2f}s\")\n",
                "\n",
                "    # 3. Comparar SDP vs. Heurística\n",
                "    print(\"\\n\\n--- COMPARAÇÃO SDP vs. HEURÍSTICA ---\")\n",
                "    df_final_comparison = pd.DataFrame({\n",
                "        \"Enhanced Louvain (Heurística)\": metrics_enhanced,\n",
                "        \"Bias-Aware SDP (Exato)\": metrics_sdp,\n",
                "        \"Louvain Padrão (Baseline)\": metrics_louvain\n",
                "    }).T\n",
                "\n",
                "    print(df_final_comparison[['modularity', 'bias_separation', 'bias_purity', 'bot_concentration_max', 'num_communities', 'runtime']].to_markdown(floatfmt=\".4f\"))\n",
                "\n",
                "    # --- INÍCIO DA CORREÇÃO ---\n",
                "    # Compara as partições diretamente das variáveis corretas\n",
                "    part_heuristic = [communities_enhanced[node] for node in sorted(G.nodes())]\n",
                "    part_sdp = [communities_sdp[node] for node in sorted(G.nodes())]\n",
                "    # --- FIM DA CORREÇÃO ---\n",
                "    \n",
                "    # Re-mapear para garantir que as partições sejam comparáveis (ex: {0:1, 1:0})\n",
                "    # Esta é uma forma simples de verificar se são funcionalmente idênticas\n",
                "    from sklearn.metrics.cluster import adjusted_rand_score\n",
                "    score = adjusted_rand_score(part_heuristic, part_sdp)\n",
                "\n",
                "    if score > 0.99:\n",
                "        print(\"\\n🎉🎉🎉 SUCESSO! A Heurística convergiu para a MESMA solução do SDP!\")\n",
                "    else:\n",
                "        print(f\"\\n⚠️ A Heurística NÃO convergiu para a solução do SDP (Adjusted Rand Score: {score:.4f}).\")\n",
                "\n",
                "except Exception as e:\n",
                "    print(f\"\\n❌ ERRO AO RODAR O SDP: {e}\")\n",
                "    # O erro 'community_map' não deve mais acontecer"
            ]
        }
    ],
    "metadata": {
        "kernelspec": {
            "display_name": ".venv (3.13.9)",
            "language": "python",
            "name": "python3"
        },
        "language_info": {
            "codemirror_mode": {
                "name": "ipython",
                "version": 3
            },
            "file_extension": ".py",
            "mimetype": "text/x-python",
            "name": "python",
            "nbconvert_exporter": "python",
            "pygments_lexer": "ipython3",
            "version": "3.13.9"
        }
    },
    "nbformat": 4,
    "nbformat_minor": 0
}
